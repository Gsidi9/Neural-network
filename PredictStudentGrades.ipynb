{
 "cells": [
  {
   "cell_type": "code",
   "execution_count": 1,
   "metadata": {},
   "outputs": [],
   "source": [
    "# import libraries\n",
    "import numpy as np \n"
   ]
  },
  {
   "cell_type": "markdown",
   "metadata": {},
   "source": [
    "#  Independent variable and dependent variable"
   ]
  },
  {
   "cell_type": "code",
   "execution_count": 2,
   "metadata": {},
   "outputs": [],
   "source": [
    "#indepedent variable\n",
    "input_set = np.array([[5,7,1],\n",
    "                [8,9,5],\n",
    "                [10,4,4],\n",
    "                [0,6,2],\n",
    "                [1,9,8],\n",
    "                [2,3,7]])\n",
    "\n",
    "\n",
    "#dependent variable/ target label\n",
    "y = np.array([[0,\n",
    "               1,\n",
    "               1,\n",
    "               0,\n",
    "               1,\n",
    "              0]])\n",
    "    \n",
    "#converts y to a vector\n",
    "y= y.reshape(6,1)"
   ]
  },
  {
   "cell_type": "markdown",
   "metadata": {},
   "source": [
    "The input set contains six records of data. The y set is the target label."
   ]
  },
  {
   "cell_type": "markdown",
   "metadata": {},
   "source": [
    "# Weight and Bias"
   ]
  },
  {
   "cell_type": "code",
   "execution_count": 3,
   "metadata": {},
   "outputs": [],
   "source": [
    "np.random.seed(0)\n",
    "# setting up the weight to a random number\n",
    "#since we have three features in the input set , we have a vector of three weights\n",
    "weights = np.random.rand(3,1)\n",
    "# setting up the bias to a random number\n",
    "bias = np.random.rand(1)\n",
    "#updates the weigth\n",
    "lr= 0.05"
   ]
  },
  {
   "cell_type": "markdown",
   "metadata": {},
   "source": [
    "#  Activation function"
   ]
  },
  {
   "cell_type": "code",
   "execution_count": 4,
   "metadata": {},
   "outputs": [],
   "source": [
    "#the activation function is sigmoid function\n",
    "def sigmoid(x):\n",
    "    return 1/(1+np.exp(-x))\n",
    "# define a function that calculates the derivate of the sigmoid function\n",
    "def sigmoid_deviration(x):\n",
    "    return sigmoid(x)*(1-sigmoid(x))"
   ]
  },
  {
   "cell_type": "markdown",
   "metadata": {},
   "source": [
    "# Train the model"
   ]
  },
  {
   "cell_type": "code",
   "execution_count": 5,
   "metadata": {},
   "outputs": [
    {
     "name": "stdout",
     "output_type": "stream",
     "text": [
      "2.9971410548801587\n",
      "2.9903716286813564\n",
      "2.967218230702331\n",
      "2.88737103793855\n",
      "2.614102223138056\n",
      "1.7901978365649664\n",
      "0.6840185399398943\n",
      "0.6654145513267773\n",
      "0.6688111012285082\n",
      "0.6660510083750184\n",
      "0.6650919338854399\n",
      "0.6636783031331579\n",
      "0.6624389484030258\n",
      "0.6611929991894963\n",
      "0.6599867307480971\n",
      "0.6588036380353411\n",
      "0.6576450606329838\n",
      "0.6565077782438192\n",
      "0.6553901441510259\n",
      "0.6542903573531276\n",
      "0.6532068998829432\n",
      "0.6521383872443112\n",
      "0.6510835831680457\n",
      "0.6500413734730712\n",
      "0.6490107540911618\n",
      "0.6479908178874462\n",
      "0.6469807440084319\n",
      "0.6459797884191787\n",
      "0.6449872757072297\n",
      "0.644002591898696\n",
      "0.6430251781585647\n",
      "0.6420545252450307\n",
      "0.6410901686143354\n",
      "0.6401316840870006\n",
      "0.6391786840005624\n",
      "0.6382308137849969\n",
      "0.6372877489066271\n",
      "0.6363491921341666\n",
      "0.6354148710872647\n",
      "0.6344845360334836\n",
      "0.6335579579043904\n",
      "0.6326349265054484\n",
      "0.6317152488977563\n",
      "0.6307987479325944\n",
      "0.6298852609221784\n",
      "0.6289746384321069\n",
      "0.6280667431828151\n",
      "0.6271614490488546\n",
      "0.6262586401461792\n",
      "0.6253582099987307\n",
      "0.6244600607766574\n",
      "0.6235641025993053\n",
      "0.6226702528969149\n",
      "0.6217784358255993\n",
      "0.6208885817307379\n",
      "0.6200006266544557\n",
      "0.6191145118832532\n",
      "0.6182301835323027\n",
      "0.6173475921632151\n",
      "0.6164666924324249\n",
      "0.6155874427675943\n",
      "0.6147098050696974\n",
      "0.6138337444386421\n",
      "0.6129592289204828\n",
      "0.6120862292744882\n",
      "0.611214718758414\n",
      "0.6103446729305468\n",
      "0.6094760694671589\n",
      "0.6086088879941458\n",
      "0.6077431099317336\n",
      "0.6068787183512213\n",
      "0.6060156978428092\n",
      "0.6051540343936455\n",
      "0.6042937152753194\n",
      "0.6034347289400253\n",
      "0.6025770649247668\n",
      "0.6017207137629621\n",
      "0.6008656669028736\n",
      "0.6000119166323585\n",
      "0.599159456009439\n",
      "0.5983082787982495\n",
      "0.5974583794099557\n",
      "0.5966097528482597\n",
      "0.5957623946591437\n",
      "0.5949163008845285\n",
      "0.5940714680195516\n",
      "0.5932278929731805\n",
      "0.592385573031914\n",
      "0.5915445058263441\n",
      "0.5907046893003319\n",
      "0.5898661216826395\n",
      "0.5890288014607907\n",
      "0.5881927273570173\n",
      "0.5873578983061216\n",
      "0.5865243134351042\n",
      "0.5856919720444326\n",
      "0.584860873590815\n",
      "0.5840310176713728\n",
      "0.5832024040090915\n",
      "0.5823750324394636\n",
      "0.5815489028982317\n",
      "0.5807240154101325\n",
      "0.579900370078577\n",
      "0.5790779670761956\n",
      "0.5782568066361717\n",
      "0.5774368890443031\n",
      "0.576618214631746\n",
      "0.5758007837683715\n",
      "0.5749845968567003\n",
      "0.5741696543263589\n",
      "0.5733559566290294\n",
      "0.5725435042338319\n",
      "0.571732297623134\n",
      "0.5709223372887271\n",
      "0.5701136237283553\n",
      "0.5693061574425615\n",
      "0.5684999389318302\n",
      "0.5676949686939958\n",
      "0.5668912472219076\n",
      "0.5660887750013053\n",
      "0.5652875525089267\n",
      "0.5644875802107843\n",
      "0.5636888585606328\n",
      "0.5628913879985894\n",
      "0.562095168949905\n",
      "0.5613002018238666\n",
      "0.5605064870128308\n",
      "0.559714024891356\n",
      "0.558922815815454\n",
      "0.5581328601219239\n",
      "0.5573441581277734\n",
      "0.5565567101297246\n",
      "0.555770516403784\n",
      "0.5549855772048807\n",
      "0.5542018927665597\n",
      "0.5534194633007405\n",
      "0.552638288997502\n",
      "0.5518583700249381\n",
      "0.5510797065290299\n",
      "0.5503022986335724\n",
      "0.5495261464401182\n",
      "0.5487512500279612\n",
      "0.5479776094541453\n",
      "0.5472052247534873\n",
      "0.5464340959386405\n",
      "0.5456642230001499\n",
      "0.544895605906556\n",
      "0.5441282446044875\n",
      "0.5433621390187784\n",
      "0.5425972890526009\n",
      "0.541833694587603\n",
      "0.5410713554840505\n",
      "0.5403102715809924\n",
      "0.5395504426964194\n",
      "0.5387918686274304\n",
      "0.5380345491504144\n",
      "0.537278484021221\n",
      "0.5365236729753521\n",
      "0.5357701157281376\n",
      "0.5350178119749343\n",
      "0.5342667613913075\n",
      "0.533516963633227\n",
      "0.5327684183372625\n",
      "0.532021125120767\n",
      "0.5312750835820874\n",
      "0.5305302933007425\n",
      "0.5297867538376284\n",
      "0.5290444647352062\n",
      "0.5283034255176982\n",
      "0.5275636356912776\n",
      "0.5268250947442651\n",
      "0.5260878021473129\n",
      "0.5253517573535991\n",
      "0.5246169597990138\n",
      "0.5238834089023447\n",
      "0.5231511040654654\n",
      "0.5224200446735159\n",
      "0.5216902300950877\n",
      "0.5209616596824023\n",
      "0.5202343327714902\n",
      "0.5195082486823709\n",
      "0.5187834067192258\n",
      "0.5180598061705715\n",
      "0.5173374463094367\n",
      "0.516616326393528\n",
      "0.5158964456654006\n",
      "0.5151778033526262\n",
      "0.514460398667959\n",
      "0.5137442308094964\n",
      "0.5130292989608446\n",
      "0.5123156022912776\n",
      "0.511603139955896\n",
      "0.5108919110957874\n",
      "0.510181914838177\n",
      "0.509473150296585\n",
      "0.5087656165709796\n",
      "0.5080593127479264\n",
      "0.50735423790074\n",
      "0.5066503910896296\n",
      "0.5059477713618492\n"
     ]
    }
   ],
   "source": [
    "\n",
    " # train the model 200 times\n",
    "for epoch in range(200):\n",
    "#storing the values of input_sets to the inputs variaables, so that the input_setsremain as it is in each iteration \n",
    "    inputs = input_set\n",
    "    #calculates the dot product between inputs and weights, then bias is added to the sum.\n",
    "    XW = np.dot(inputs, weights) +bias\n",
    "    # pass the dot product summaion through the sigmoid action function\n",
    "    z = sigmoid(XW)\n",
    "    \n",
    "    #calculates the error\n",
    "    error = z - y #The variable z contains the predicted outputs\n",
    "    print(error.sum())\n",
    "    #dcost = error\n",
    "    dpred = sigmoid_deviration(z)\n",
    "    #performing weight adjustments\n",
    "    z_del = error * dpred\n",
    "    inputs = inputs.T\n",
    "    weights = weights - lr*np.dot(inputs, z_del)\n",
    "    \n",
    "    #multiply the learning rate variable lr with the derivative to increase the speed of learning.Alsothe bias term.\n",
    "    for num in z_del:\n",
    "        bias = bias - lr*num\n",
    "    "
   ]
  },
  {
   "cell_type": "markdown",
   "metadata": {},
   "source": [
    "# Make predictions "
   ]
  },
  {
   "cell_type": "code",
   "execution_count": 6,
   "metadata": {},
   "outputs": [
    {
     "name": "stdout",
     "output_type": "stream",
     "text": [
      "output: [0.72286331]\n"
     ]
    }
   ],
   "source": [
    "predict = np.array([3,9,10])\n",
    "result = sigmoid(np.dot(predict, weights)+ bias)\n",
    "print(\"output:\",result)"
   ]
  },
  {
   "cell_type": "code",
   "execution_count": 7,
   "metadata": {},
   "outputs": [
    {
     "name": "stdout",
     "output_type": "stream",
     "text": [
      "output: [0.55881204]\n"
     ]
    }
   ],
   "source": [
    "predict = np.array([1,5,7])\n",
    "result = sigmoid(np.dot(predict, weights)+ bias)\n",
    "print(\"output:\",result)"
   ]
  },
  {
   "cell_type": "code",
   "execution_count": 9,
   "metadata": {},
   "outputs": [
    {
     "name": "stdout",
     "output_type": "stream",
     "text": [
      "output: [0.2772726]\n"
     ]
    }
   ],
   "source": [
    "predict = np.array([0,0,0])\n",
    "result = sigmoid(np.dot(predict,weights) +bias)\n",
    "print(\"output:\",result)"
   ]
  }
 ],
 "metadata": {
  "kernelspec": {
   "display_name": "Python 3",
   "language": "python",
   "name": "python3"
  },
  "language_info": {
   "codemirror_mode": {
    "name": "ipython",
    "version": 3
   },
   "file_extension": ".py",
   "mimetype": "text/x-python",
   "name": "python",
   "nbconvert_exporter": "python",
   "pygments_lexer": "ipython3",
   "version": "3.7.4"
  }
 },
 "nbformat": 4,
 "nbformat_minor": 2
}
